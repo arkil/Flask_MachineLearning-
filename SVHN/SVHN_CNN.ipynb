{
 "cells": [
  {
   "cell_type": "code",
   "execution_count": 1,
   "metadata": {},
   "outputs": [],
   "source": [
    "# !pip3 install scipy --user\n",
    "# !pip3 install sklearn --user\n",
    "#!pip3 install seaborn --user"
   ]
  },
  {
   "cell_type": "markdown",
   "metadata": {},
   "source": [
    "# Importing Essential Libraries"
   ]
  },
  {
   "cell_type": "code",
   "execution_count": 2,
   "metadata": {},
   "outputs": [],
   "source": [
    "import scipy.io\n",
    "import numpy as np\n",
    "import matplotlib.pyplot as plt\n",
    "from sklearn.utils import shuffle\n",
    "import tensorflow as tf"
   ]
  },
  {
   "cell_type": "code",
   "execution_count": 3,
   "metadata": {},
   "outputs": [],
   "source": [
    "from sklearn.model_selection import train_test_split\n",
    "from datetime import timedelta\n",
    "import os\n",
    "import time\n",
    "import seaborn as sns\n",
    "from sklearn.preprocessing import OneHotEncoder\n"
   ]
  },
  {
   "cell_type": "markdown",
   "metadata": {},
   "source": [
    "# Loading Train Data"
   ]
  },
  {
   "cell_type": "code",
   "execution_count": 4,
   "metadata": {},
   "outputs": [],
   "source": [
    "train_data = scipy.io.loadmat('train_32x32.mat')\n",
    "x_train = train_data['X']\n",
    "y_train = train_data['y']"
   ]
  },
  {
   "cell_type": "markdown",
   "metadata": {},
   "source": [
    "# Loading Test Data "
   ]
  },
  {
   "cell_type": "code",
   "execution_count": 5,
   "metadata": {},
   "outputs": [],
   "source": [
    "test_data = scipy.io.loadmat('test_32x32.mat')\n",
    "x_test = test_data['X']\n",
    "y_test = test_data['y']"
   ]
  },
  {
   "cell_type": "markdown",
   "metadata": {},
   "source": [
    "# Shape Of Train and Test Data"
   ]
  },
  {
   "cell_type": "code",
   "execution_count": 6,
   "metadata": {},
   "outputs": [
    {
     "data": {
      "text/plain": [
       "(32, 32, 3, 73257)"
      ]
     },
     "execution_count": 6,
     "metadata": {},
     "output_type": "execute_result"
    }
   ],
   "source": [
    "x_train.shape"
   ]
  },
  {
   "cell_type": "code",
   "execution_count": 7,
   "metadata": {},
   "outputs": [
    {
     "data": {
      "text/plain": [
       "(73257, 1)"
      ]
     },
     "execution_count": 7,
     "metadata": {},
     "output_type": "execute_result"
    }
   ],
   "source": [
    "y_train.shape"
   ]
  },
  {
   "cell_type": "code",
   "execution_count": 8,
   "metadata": {},
   "outputs": [
    {
     "data": {
      "text/plain": [
       "(32, 32, 3, 26032)"
      ]
     },
     "execution_count": 8,
     "metadata": {},
     "output_type": "execute_result"
    }
   ],
   "source": [
    "x_test.shape"
   ]
  },
  {
   "cell_type": "markdown",
   "metadata": {},
   "source": [
    "# Transpose Data : [width, height, channels, size] => [size, width, height, channels]"
   ]
  },
  {
   "cell_type": "code",
   "execution_count": 9,
   "metadata": {},
   "outputs": [],
   "source": [
    "x_train, y_train = x_train.transpose((3,0,1,2)), y_train[:,0]\n",
    "x_test, y_test = x_test.transpose((3,0,1,2)), y_test[:,0]"
   ]
  },
  {
   "cell_type": "code",
   "execution_count": 10,
   "metadata": {},
   "outputs": [
    {
     "data": {
      "text/plain": [
       "(73257, 32, 32, 3)"
      ]
     },
     "execution_count": 10,
     "metadata": {},
     "output_type": "execute_result"
    }
   ],
   "source": [
    "x_train.shape"
   ]
  },
  {
   "cell_type": "code",
   "execution_count": 11,
   "metadata": {},
   "outputs": [
    {
     "data": {
      "text/plain": [
       "(73257,)"
      ]
     },
     "execution_count": 11,
     "metadata": {},
     "output_type": "execute_result"
    }
   ],
   "source": [
    "y_train.shape"
   ]
  },
  {
   "cell_type": "code",
   "execution_count": 12,
   "metadata": {},
   "outputs": [
    {
     "data": {
      "text/plain": [
       "(26032, 32, 32, 3)"
      ]
     },
     "execution_count": 12,
     "metadata": {},
     "output_type": "execute_result"
    }
   ],
   "source": [
    "x_test.shape"
   ]
  },
  {
   "cell_type": "code",
   "execution_count": 13,
   "metadata": {},
   "outputs": [
    {
     "name": "stdout",
     "output_type": "stream",
     "text": [
      "[ 1  2  3  4  5  6  7  8  9 10]\n"
     ]
    }
   ],
   "source": [
    "print(np.unique(y_train))"
   ]
  },
  {
   "cell_type": "markdown",
   "metadata": {},
   "source": [
    "# Split Training Data into 85:15 Train:Validation"
   ]
  },
  {
   "cell_type": "code",
   "execution_count": 14,
   "metadata": {},
   "outputs": [],
   "source": [
    "x_train, x_val, y_train, y_val = train_test_split(x_train, y_train, test_size=0.15, random_state=7)"
   ]
  },
  {
   "cell_type": "code",
   "execution_count": 15,
   "metadata": {},
   "outputs": [
    {
     "data": {
      "text/plain": [
       "((62268,), (10989,), (26032,))"
      ]
     },
     "execution_count": 15,
     "metadata": {},
     "output_type": "execute_result"
    }
   ],
   "source": [
    "y_train.shape, y_val.shape, y_test.shape"
   ]
  },
  {
   "cell_type": "markdown",
   "metadata": {},
   "source": [
    "# Convert RGB Image to Gray"
   ]
  },
  {
   "cell_type": "code",
   "execution_count": 16,
   "metadata": {},
   "outputs": [],
   "source": [
    "def rgb2gray(images):\n",
    "    return np.expand_dims(np.dot(images, [0.2990, 0.5870, 0.1140]), axis=3)"
   ]
  },
  {
   "cell_type": "code",
   "execution_count": 17,
   "metadata": {},
   "outputs": [],
   "source": [
    "gray_train = rgb2gray(x_train).astype(np.float32)\n",
    "gray_test = rgb2gray(x_test).astype(np.float32)\n",
    "gray_val = rgb2gray(x_val).astype(np.float32)"
   ]
  },
  {
   "cell_type": "markdown",
   "metadata": {},
   "source": [
    "# Normalization of Data"
   ]
  },
  {
   "cell_type": "code",
   "execution_count": 18,
   "metadata": {},
   "outputs": [],
   "source": [
    "train_mean = np.mean(gray_train, axis=0)\n",
    "train_std = np.std(gray_train, axis=0)\n",
    "norm_train = (gray_train - train_mean) / train_std\n",
    "norm_test = (gray_test - train_mean)  / train_std\n",
    "norm_val = (gray_val - train_mean) / train_std"
   ]
  },
  {
   "cell_type": "markdown",
   "metadata": {},
   "source": [
    "# One Hot Encoding for CNN classification"
   ]
  },
  {
   "cell_type": "code",
   "execution_count": 19,
   "metadata": {},
   "outputs": [
    {
     "name": "stderr",
     "output_type": "stream",
     "text": [
      "/home/arkil/.local/lib/python3.6/site-packages/sklearn/preprocessing/_encoders.py:415: FutureWarning: The handling of integer data will change in version 0.22. Currently, the categories are determined based on the range [0, max(values)], while in the future they will be determined based on the unique values.\n",
      "If you want the future behaviour and silence this warning, you can specify \"categories='auto'\".\n",
      "In case you used a LabelEncoder before this OneHotEncoder to convert the categories to integers, then you can now use the OneHotEncoder directly.\n",
      "  warnings.warn(msg, FutureWarning)\n"
     ]
    }
   ],
   "source": [
    "enc = OneHotEncoder().fit(y_train.reshape(-1, 1))\n",
    "y_train = enc.transform(y_train.reshape(-1, 1)).toarray()\n",
    "y_test = enc.transform(y_test.reshape(-1, 1)).toarray()\n",
    "y_val = enc.transform(y_val.reshape(-1, 1)).toarray()"
   ]
  },
  {
   "cell_type": "markdown",
   "metadata": {},
   "source": [
    "# Train Images in Batches"
   ]
  },
  {
   "cell_type": "code",
   "execution_count": 20,
   "metadata": {},
   "outputs": [],
   "source": [
    "def get_batch(X, y, batch_size=512):\n",
    "    for i in np.arange(0, y.shape[0], batch_size):\n",
    "        end = min(X.shape[0], i + batch_size)\n",
    "        yield(X[i:end],y[i:end])"
   ]
  },
  {
   "cell_type": "markdown",
   "metadata": {},
   "source": [
    "\n",
    "# Initializing Placeholder Variable\n"
   ]
  },
  {
   "cell_type": "code",
   "execution_count": 21,
   "metadata": {},
   "outputs": [],
   "source": [
    "comp = 32*32\n",
    "tf.logging.set_verbosity(tf.logging.INFO)\n",
    "\n",
    "\n",
    "x = tf.placeholder(tf.float32, shape = [None, 32, 32, 1], name='Input_Data')\n",
    "y = tf.placeholder(tf.float32, shape = [None, 10], name='Input_Labels')\n",
    "y_cls = tf.argmax(y, 1)\n",
    "\n",
    "discard_rate = tf.placeholder(tf.float32, name='Discard_rate')\n",
    "os.environ['TF_CPP_MIN_LOG_LEVEL']='2'"
   ]
  },
  {
   "cell_type": "markdown",
   "metadata": {},
   "source": [
    "\n",
    "# CNN Architecture:\n",
    "\n",
    "* Input Layer\n",
    "*  Conv Layer 1 + ReLU\n",
    "* Pooling Layer\n",
    "* Conv Layer 2 + ReLU\n",
    "* Pooling Layer\n",
    "* Dense Layer\n",
    "* Logits Layer\n"
   ]
  },
  {
   "cell_type": "code",
   "execution_count": 22,
   "metadata": {},
   "outputs": [],
   "source": [
    "def cnn_arch(features):\n",
    "    input_layer = tf.reshape(features, [-1, 32, 32, 1], name='Reshaped_Input')\n",
    "    conv1 = tf.layers.conv2d(\n",
    "        inputs=input_layer,\n",
    "        filters=32,\n",
    "        kernel_size=[5, 5],\n",
    "        padding=\"same\",\n",
    "        activation=tf.nn.relu)\n",
    "    pool1 = tf.layers.max_pooling2d(inputs=conv1, pool_size=[2, 2], strides=2)\n",
    "    conv2 = tf.layers.conv2d(\n",
    "          inputs=pool1,\n",
    "          filters=64,\n",
    "          kernel_size=[5, 5],\n",
    "          padding=\"same\",\n",
    "          activation=tf.nn.relu)\n",
    "    pool2 = tf.layers.max_pooling2d(inputs=conv2, pool_size=[2, 2], strides=2)\n",
    "    pool2_flat = tf.reshape(pool2, [-1, 8 * 8 * 64])\n",
    "    dense = tf.layers.dense(inputs=pool2_flat, units=256, activation=tf.nn.relu)\n",
    "    dropout = tf.layers.dropout(\n",
    "         inputs=dense, rate=discard_rate)\n",
    "    logits = tf.layers.dense(inputs=dropout, units=10)\n",
    "    return logits"
   ]
  },
  {
   "cell_type": "code",
   "execution_count": 23,
   "metadata": {},
   "outputs": [],
   "source": [
    "max_epochs = 5\n",
    "num_examples = norm_train.shape[0]"
   ]
  },
  {
   "cell_type": "markdown",
   "metadata": {},
   "source": [
    "# Prediction Loss Function Optimizer"
   ]
  },
  {
   "cell_type": "code",
   "execution_count": 24,
   "metadata": {},
   "outputs": [
    {
     "name": "stdout",
     "output_type": "stream",
     "text": [
      "WARNING:tensorflow:From <ipython-input-22-aa2c101a4104>:8: conv2d (from tensorflow.python.layers.convolutional) is deprecated and will be removed in a future version.\n",
      "Instructions for updating:\n",
      "Use `tf.keras.layers.Conv2D` instead.\n",
      "WARNING:tensorflow:From /home/arkil/.local/lib/python3.6/site-packages/tensorflow/python/ops/init_ops.py:1251: calling VarianceScaling.__init__ (from tensorflow.python.ops.init_ops) with dtype is deprecated and will be removed in a future version.\n",
      "Instructions for updating:\n",
      "Call initializer instance with the dtype argument instead of passing it to the constructor\n",
      "WARNING:tensorflow:Entity <bound method Conv.call of <tensorflow.python.layers.convolutional.Conv2D object at 0x7ff5179ce828>> could not be transformed and will be executed as-is. Please report this to the AutgoGraph team. When filing the bug, set the verbosity to 10 (on Linux, `export AUTOGRAPH_VERBOSITY=10`) and attach the full output. Cause: converting <bound method Conv.call of <tensorflow.python.layers.convolutional.Conv2D object at 0x7ff5179ce828>>: AssertionError: Bad argument number for Name: 3, expecting 4\n",
      "WARNING: Entity <bound method Conv.call of <tensorflow.python.layers.convolutional.Conv2D object at 0x7ff5179ce828>> could not be transformed and will be executed as-is. Please report this to the AutgoGraph team. When filing the bug, set the verbosity to 10 (on Linux, `export AUTOGRAPH_VERBOSITY=10`) and attach the full output. Cause: converting <bound method Conv.call of <tensorflow.python.layers.convolutional.Conv2D object at 0x7ff5179ce828>>: AssertionError: Bad argument number for Name: 3, expecting 4\n",
      "WARNING:tensorflow:From <ipython-input-22-aa2c101a4104>:9: max_pooling2d (from tensorflow.python.layers.pooling) is deprecated and will be removed in a future version.\n",
      "Instructions for updating:\n",
      "Use keras.layers.MaxPooling2D instead.\n",
      "WARNING:tensorflow:Entity <bound method Pooling2D.call of <tensorflow.python.layers.pooling.MaxPooling2D object at 0x7ff5179ce828>> could not be transformed and will be executed as-is. Please report this to the AutgoGraph team. When filing the bug, set the verbosity to 10 (on Linux, `export AUTOGRAPH_VERBOSITY=10`) and attach the full output. Cause: converting <bound method Pooling2D.call of <tensorflow.python.layers.pooling.MaxPooling2D object at 0x7ff5179ce828>>: AssertionError: Bad argument number for Name: 3, expecting 4\n",
      "WARNING: Entity <bound method Pooling2D.call of <tensorflow.python.layers.pooling.MaxPooling2D object at 0x7ff5179ce828>> could not be transformed and will be executed as-is. Please report this to the AutgoGraph team. When filing the bug, set the verbosity to 10 (on Linux, `export AUTOGRAPH_VERBOSITY=10`) and attach the full output. Cause: converting <bound method Pooling2D.call of <tensorflow.python.layers.pooling.MaxPooling2D object at 0x7ff5179ce828>>: AssertionError: Bad argument number for Name: 3, expecting 4\n",
      "WARNING:tensorflow:Entity <bound method Conv.call of <tensorflow.python.layers.convolutional.Conv2D object at 0x7ff5179ce828>> could not be transformed and will be executed as-is. Please report this to the AutgoGraph team. When filing the bug, set the verbosity to 10 (on Linux, `export AUTOGRAPH_VERBOSITY=10`) and attach the full output. Cause: converting <bound method Conv.call of <tensorflow.python.layers.convolutional.Conv2D object at 0x7ff5179ce828>>: AssertionError: Bad argument number for Name: 3, expecting 4\n",
      "WARNING: Entity <bound method Conv.call of <tensorflow.python.layers.convolutional.Conv2D object at 0x7ff5179ce828>> could not be transformed and will be executed as-is. Please report this to the AutgoGraph team. When filing the bug, set the verbosity to 10 (on Linux, `export AUTOGRAPH_VERBOSITY=10`) and attach the full output. Cause: converting <bound method Conv.call of <tensorflow.python.layers.convolutional.Conv2D object at 0x7ff5179ce828>>: AssertionError: Bad argument number for Name: 3, expecting 4\n",
      "WARNING:tensorflow:Entity <bound method Pooling2D.call of <tensorflow.python.layers.pooling.MaxPooling2D object at 0x7ff5179ce828>> could not be transformed and will be executed as-is. Please report this to the AutgoGraph team. When filing the bug, set the verbosity to 10 (on Linux, `export AUTOGRAPH_VERBOSITY=10`) and attach the full output. Cause: converting <bound method Pooling2D.call of <tensorflow.python.layers.pooling.MaxPooling2D object at 0x7ff5179ce828>>: AssertionError: Bad argument number for Name: 3, expecting 4\n",
      "WARNING: Entity <bound method Pooling2D.call of <tensorflow.python.layers.pooling.MaxPooling2D object at 0x7ff5179ce828>> could not be transformed and will be executed as-is. Please report this to the AutgoGraph team. When filing the bug, set the verbosity to 10 (on Linux, `export AUTOGRAPH_VERBOSITY=10`) and attach the full output. Cause: converting <bound method Pooling2D.call of <tensorflow.python.layers.pooling.MaxPooling2D object at 0x7ff5179ce828>>: AssertionError: Bad argument number for Name: 3, expecting 4\n",
      "WARNING:tensorflow:From <ipython-input-22-aa2c101a4104>:18: dense (from tensorflow.python.layers.core) is deprecated and will be removed in a future version.\n",
      "Instructions for updating:\n",
      "Use keras.layers.dense instead.\n",
      "WARNING:tensorflow:Entity <bound method Dense.call of <tensorflow.python.layers.core.Dense object at 0x7ff5049b92b0>> could not be transformed and will be executed as-is. Please report this to the AutgoGraph team. When filing the bug, set the verbosity to 10 (on Linux, `export AUTOGRAPH_VERBOSITY=10`) and attach the full output. Cause: converting <bound method Dense.call of <tensorflow.python.layers.core.Dense object at 0x7ff5049b92b0>>: AssertionError: Bad argument number for Name: 3, expecting 4\n",
      "WARNING: Entity <bound method Dense.call of <tensorflow.python.layers.core.Dense object at 0x7ff5049b92b0>> could not be transformed and will be executed as-is. Please report this to the AutgoGraph team. When filing the bug, set the verbosity to 10 (on Linux, `export AUTOGRAPH_VERBOSITY=10`) and attach the full output. Cause: converting <bound method Dense.call of <tensorflow.python.layers.core.Dense object at 0x7ff5049b92b0>>: AssertionError: Bad argument number for Name: 3, expecting 4\n",
      "WARNING:tensorflow:From <ipython-input-22-aa2c101a4104>:20: dropout (from tensorflow.python.layers.core) is deprecated and will be removed in a future version.\n",
      "Instructions for updating:\n",
      "Use keras.layers.dropout instead.\n",
      "WARNING:tensorflow:Entity <bound method Dropout.call of <tensorflow.python.layers.core.Dropout object at 0x7ff5049b92b0>> could not be transformed and will be executed as-is. Please report this to the AutgoGraph team. When filing the bug, set the verbosity to 10 (on Linux, `export AUTOGRAPH_VERBOSITY=10`) and attach the full output. Cause: converting <bound method Dropout.call of <tensorflow.python.layers.core.Dropout object at 0x7ff5049b92b0>>: AssertionError: Bad argument number for Name: 3, expecting 4\n",
      "WARNING: Entity <bound method Dropout.call of <tensorflow.python.layers.core.Dropout object at 0x7ff5049b92b0>> could not be transformed and will be executed as-is. Please report this to the AutgoGraph team. When filing the bug, set the verbosity to 10 (on Linux, `export AUTOGRAPH_VERBOSITY=10`) and attach the full output. Cause: converting <bound method Dropout.call of <tensorflow.python.layers.core.Dropout object at 0x7ff5049b92b0>>: AssertionError: Bad argument number for Name: 3, expecting 4\n",
      "WARNING:tensorflow:Entity <bound method Dense.call of <tensorflow.python.layers.core.Dense object at 0x7ff5049b92b0>> could not be transformed and will be executed as-is. Please report this to the AutgoGraph team. When filing the bug, set the verbosity to 10 (on Linux, `export AUTOGRAPH_VERBOSITY=10`) and attach the full output. Cause: converting <bound method Dense.call of <tensorflow.python.layers.core.Dense object at 0x7ff5049b92b0>>: AssertionError: Bad argument number for Name: 3, expecting 4\n",
      "WARNING: Entity <bound method Dense.call of <tensorflow.python.layers.core.Dense object at 0x7ff5049b92b0>> could not be transformed and will be executed as-is. Please report this to the AutgoGraph team. When filing the bug, set the verbosity to 10 (on Linux, `export AUTOGRAPH_VERBOSITY=10`) and attach the full output. Cause: converting <bound method Dense.call of <tensorflow.python.layers.core.Dense object at 0x7ff5049b92b0>>: AssertionError: Bad argument number for Name: 3, expecting 4\n"
     ]
    },
    {
     "name": "stdout",
     "output_type": "stream",
     "text": [
      "WARNING:tensorflow:From /home/arkil/.local/lib/python3.6/site-packages/tensorflow/python/ops/losses/losses_impl.py:121: add_dispatch_support.<locals>.wrapper (from tensorflow.python.ops.array_ops) is deprecated and will be removed in a future version.\n",
      "Instructions for updating:\n",
      "Use tf.where in 2.0, which has the same broadcast rule as np.where\n"
     ]
    }
   ],
   "source": [
    "prediction = cnn_arch(x)\n",
    "prediction_cls = tf.argmax(prediction, 1)\n",
    "loss = tf.reduce_mean(tf.losses.softmax_cross_entropy(\n",
    "   onehot_labels=y, logits=prediction))\n",
    "optimizer = tf.train.AdamOptimizer().minimize(loss)"
   ]
  },
  {
   "cell_type": "code",
   "execution_count": 25,
   "metadata": {},
   "outputs": [],
   "source": [
    "correct_prediction = tf.equal(prediction_cls, y_cls)\n",
    "accuracy = tf.reduce_mean(tf.cast(correct_prediction, tf.float32))"
   ]
  },
  {
   "cell_type": "markdown",
   "metadata": {},
   "source": [
    "\n",
    "# Tensorflow Session"
   ]
  },
  {
   "cell_type": "code",
   "execution_count": 26,
   "metadata": {},
   "outputs": [],
   "source": [
    "sess = tf.Session()"
   ]
  },
  {
   "cell_type": "code",
   "execution_count": 27,
   "metadata": {},
   "outputs": [],
   "source": [
    "sess.run(tf.global_variables_initializer())"
   ]
  },
  {
   "cell_type": "code",
   "execution_count": 28,
   "metadata": {},
   "outputs": [],
   "source": [
    "saver = tf.train.Saver()\n",
    "save_dir = 'checkpnts/'\n",
    "if not os.path.exists(save_dir):\n",
    "    os.makedirs(save_dir)\n",
    "    \n",
    "save_path = os.path.join(save_dir, 'svhn_single_greyscale')"
   ]
  },
  {
   "cell_type": "code",
   "execution_count": 29,
   "metadata": {},
   "outputs": [],
   "source": [
    "batch_size = 512\n",
    "discard_per = 0.65"
   ]
  },
  {
   "cell_type": "markdown",
   "metadata": {},
   "source": [
    "# Train Model"
   ]
  },
  {
   "cell_type": "code",
   "execution_count": 30,
   "metadata": {},
   "outputs": [
    {
     "name": "stdout",
     "output_type": "stream",
     "text": [
      "Training .........\n",
      "\n",
      "Epoch  1 : ........ \n",
      "\n",
      "Step: 0 ..... \n",
      "Mini-Batch Loss   :  2.315503\n",
      "Mini-Batch Accuracy : 9.765625 %\n",
      "Validation Accuracy : 19.42851942851943 %\n",
      "\n",
      "Step: 40 ..... \n",
      "Mini-Batch Loss   :  1.481865\n",
      "Mini-Batch Accuracy : 53.515625 %\n",
      "Validation Accuracy : 55.40995540995541 %\n",
      "\n",
      "Step: 80 ..... \n",
      "Mini-Batch Loss   :  0.6868678\n",
      "Mini-Batch Accuracy : 78.90625 %\n",
      "Validation Accuracy : 78.86067886067886 %\n",
      "\n",
      "Step: 120 ..... \n",
      "Mini-Batch Loss   :  0.6202229\n",
      "Mini-Batch Accuracy : 82.03125 %\n",
      "Validation Accuracy : 83.47438347438347 %\n",
      "\n",
      "Epoch 1 completed out of  5\n",
      "Training .........\n",
      "\n",
      "Epoch  2 : ........ \n",
      "\n",
      "Step: 0 ..... \n",
      "Mini-Batch Loss   :  0.51892304\n",
      "Mini-Batch Accuracy : 84.765625 %\n",
      "Validation Accuracy : 83.91118391118391 %\n",
      "\n",
      "Step: 40 ..... \n",
      "Mini-Batch Loss   :  0.5241529\n",
      "Mini-Batch Accuracy : 85.546875 %\n",
      "Validation Accuracy : 85.86768586768586 %\n",
      "\n",
      "Step: 80 ..... \n",
      "Mini-Batch Loss   :  0.3949862\n",
      "Mini-Batch Accuracy : 86.1328125 %\n",
      "Validation Accuracy : 86.07698607698607 %\n",
      "\n",
      "Step: 120 ..... \n",
      "Mini-Batch Loss   :  0.4628525\n",
      "Mini-Batch Accuracy : 86.328125 %\n",
      "Validation Accuracy : 86.94148694148694 %\n",
      "\n",
      "Epoch 2 completed out of  5\n",
      "Training .........\n",
      "\n",
      "Epoch  3 : ........ \n",
      "\n",
      "Step: 0 ..... \n",
      "Mini-Batch Loss   :  0.37844908\n",
      "Mini-Batch Accuracy : 88.8671875 %\n",
      "Validation Accuracy : 87.3054873054873 %\n",
      "\n",
      "Step: 40 ..... \n",
      "Mini-Batch Loss   :  0.44755358\n",
      "Mini-Batch Accuracy : 87.109375 %\n",
      "Validation Accuracy : 87.86968786968787 %\n",
      "\n",
      "Step: 80 ..... \n",
      "Mini-Batch Loss   :  0.3172306\n",
      "Mini-Batch Accuracy : 89.84375 %\n",
      "Validation Accuracy : 87.997087997088 %\n",
      "\n",
      "Step: 120 ..... \n",
      "Mini-Batch Loss   :  0.38347304\n",
      "Mini-Batch Accuracy : 88.0859375 %\n",
      "Validation Accuracy : 88.37928837928838 %\n",
      "\n",
      "Epoch 3 completed out of  5\n",
      "Training .........\n",
      "\n",
      "Epoch  4 : ........ \n",
      "\n",
      "Step: 0 ..... \n",
      "Mini-Batch Loss   :  0.33209965\n",
      "Mini-Batch Accuracy : 91.2109375 %\n",
      "Validation Accuracy : 88.55218855218855 %\n",
      "\n",
      "Step: 40 ..... \n",
      "Mini-Batch Loss   :  0.39734542\n",
      "Mini-Batch Accuracy : 88.671875 %\n",
      "Validation Accuracy : 88.74328874328874 %\n",
      "\n",
      "Step: 80 ..... \n",
      "Mini-Batch Loss   :  0.27886996\n",
      "Mini-Batch Accuracy : 90.8203125 %\n",
      "Validation Accuracy : 88.57038857038857 %\n",
      "\n",
      "Step: 120 ..... \n",
      "Mini-Batch Loss   :  0.3303267\n",
      "Mini-Batch Accuracy : 90.4296875 %\n",
      "Validation Accuracy : 89.08908908908909 %\n",
      "\n",
      "Epoch 4 completed out of  5\n",
      "Training .........\n",
      "\n",
      "Epoch  5 : ........ \n",
      "\n",
      "Step: 0 ..... \n",
      "Mini-Batch Loss   :  0.28813037\n",
      "Mini-Batch Accuracy : 92.3828125 %\n",
      "Validation Accuracy : 89.32568932568932 %\n",
      "\n",
      "Step: 40 ..... \n",
      "Mini-Batch Loss   :  0.34718648\n",
      "Mini-Batch Accuracy : 90.4296875 %\n",
      "Validation Accuracy : 89.08908908908909 %\n",
      "\n",
      "Step: 80 ..... \n",
      "Mini-Batch Loss   :  0.23130584\n",
      "Mini-Batch Accuracy : 91.796875 %\n",
      "Validation Accuracy : 88.8979888979889 %\n",
      "\n",
      "Step: 120 ..... \n",
      "Mini-Batch Loss   :  0.29220265\n",
      "Mini-Batch Accuracy : 91.6015625 %\n",
      "Validation Accuracy : 89.5076895076895 %\n",
      "\n",
      "Epoch 5 completed out of  5\n",
      "Test Accuracy : 88.00322679778733 %\n",
      "Time usage: 0:04:53\n",
      "\n"
     ]
    }
   ],
   "source": [
    "train_loss = []\n",
    "valid_loss = []\n",
    "start_time = time.time()\n",
    "for epoch in range(max_epochs):\n",
    "    print ('Training .........')\n",
    "    epoch_loss = 0\n",
    "    print ()\n",
    "    print ('Epoch ', epoch+1 , ': ........ \\n')\n",
    "    step = 0   \n",
    "    for (epoch_x , epoch_y) in get_batch(norm_train, y_train, batch_size):\n",
    "        _, train_accu, c = sess.run([optimizer, accuracy, loss], feed_dict={x: epoch_x, y: epoch_y, discard_rate: discard_per})\n",
    "        train_loss.append(c)\n",
    "    \n",
    "        if(step%40 == 0):\n",
    "            print (\"Step:\", step, \".....\", \"\\nMini-Batch Loss   : \", c)\n",
    "            print('Mini-Batch Accuracy :' , train_accu*100.0, '%')\n",
    "            accu = 0.0\n",
    "            for (epoch_x , epoch_y) in get_batch(norm_val, y_val, 512):                            \n",
    "                correct, _c = sess.run([correct_prediction, loss], feed_dict={x: epoch_x, y: epoch_y, discard_rate: 0.0})\n",
    "                valid_loss.append(_c)\n",
    "                accu+= np.sum(correct[correct == True])\n",
    "            print('Validation Accuracy :' , accu*100.0/y_val.shape[0], '%')\n",
    "            print ()\n",
    "        step = step + 1\n",
    "    print ('Epoch', epoch+1, 'completed out of ', max_epochs)\n",
    "time_diff = time.time() - start_time\n",
    "accu = 0.0\n",
    "for (epoch_x , epoch_y) in get_batch(norm_test, y_test, 512):\n",
    "    correct = sess.run([correct_prediction], feed_dict={x: epoch_x, y: epoch_y, discard_rate: 0.0})\n",
    "    accu+= np.sum(correct[correct == True])\n",
    "print('Test Accuracy :' , accu*100.0/y_test.shape[0], '%')\n",
    "print(\"Time usage: \" + str(timedelta(seconds=int(round(time_diff)))))\n",
    "print ()"
   ]
  },
  {
   "cell_type": "code",
   "execution_count": 31,
   "metadata": {},
   "outputs": [
    {
     "name": "stdout",
     "output_type": "stream",
     "text": [
      "Completed\n"
     ]
    }
   ],
   "source": [
    "test_pred = []\n",
    "for (epoch_x , epoch_y) in get_batch(norm_test, y_test, 512):\n",
    "    correct = sess.run([prediction_cls], feed_dict={x: epoch_x, y: epoch_y, discard_rate: 0.0})\n",
    "    test_pred.append((np.asarray(correct, dtype=int)).T)\n",
    "\n",
    "print ('Completed')"
   ]
  },
  {
   "cell_type": "code",
   "execution_count": 32,
   "metadata": {},
   "outputs": [],
   "source": [
    "def flatten(lists):\n",
    "    results = []\n",
    "    for numbers in lists:\n",
    "        for x in numbers:\n",
    "            results.append(x)\n",
    "    return np.asarray(results)\n"
   ]
  },
  {
   "cell_type": "code",
   "execution_count": 33,
   "metadata": {},
   "outputs": [],
   "source": [
    "flat_array = flatten(test_pred)\n",
    "flat_array = (flat_array.T)\n",
    "flat_array = flat_array[0]"
   ]
  },
  {
   "cell_type": "markdown",
   "metadata": {},
   "source": [
    "# Confusion Matrix"
   ]
  },
  {
   "cell_type": "code",
   "execution_count": 34,
   "metadata": {},
   "outputs": [
    {
     "data": {
      "image/png": "[encoded data removed]",
      "text/plain": [
       "<Figure size 864x576 with 2 Axes>"
      ]
     },
     "metadata": {
      "needs_background": "light"
     },
     "output_type": "display_data"
    }
   ],
   "source": [
    "from sklearn.metrics import confusion_matrix\n",
    "\n",
    "plt.figure(figsize=(12, 8))\n",
    "cm = confusion_matrix(y_true=np.argmax(y_test, axis=1), y_pred=flat_array)\n",
    "cm = cm.astype('float') / cm.sum(axis=1)[:, np.newaxis] * 100.0\n",
    "sns.heatmap(cm, annot=True, cmap='Reds', fmt='.1f', square=True);"
   ]
  },
  {
   "cell_type": "code",
   "execution_count": 35,
   "metadata": {},
   "outputs": [],
   "source": [
    "def plotImages(images, rows, cols, cls_true, cls_pred=None):\n",
    "    fig, axes = plt.subplots(rows, cols)\n",
    "    rs = np.random.choice(images.shape[0], rows*cols)\n",
    "    for i, j in zip(rs, axes.flat): \n",
    "        if cls_pred is None:\n",
    "            title = \"True: {0}\".format(np.argmax(cls_true[i]))\n",
    "        else:\n",
    "            title = \"True: {0}, Pred: {1}\".format(np.argmax(cls_true[i]), cls_pred[i])  \n",
    "     \n",
    "        j.imshow(images[i,:,:,0], cmap='binary')\n",
    "        j.set_title(title)\n",
    "        j.set_xticks([])\n",
    "        j.set_yticks([])"
   ]
  },
  {
   "cell_type": "code",
   "execution_count": 36,
   "metadata": {},
   "outputs": [
    {
     "data": {
      "image/png": "[encoded data removed]",
      "text/plain": [
       "<Figure size 432x288 with 12 Axes>"
      ]
     },
     "metadata": {},
     "output_type": "display_data"
    }
   ],
   "source": [
    "incorrect = flat_array != np.argmax(y_test, axis=1)\n",
    "images = x_test[incorrect]\n",
    "cls_true = y_test[incorrect]\n",
    "cls_pred = flat_array[incorrect]\n",
    "\n",
    "plotImages(images, 3, 4, cls_true, cls_pred);"
   ]
  },
  {
   "cell_type": "code",
   "execution_count": 37,
   "metadata": {},
   "outputs": [
    {
     "data": {
      "image/png": "[encoded data removed]",
      "text/plain": [
       "<Figure size 432x288 with 12 Axes>"
      ]
     },
     "metadata": {},
     "output_type": "display_data"
    }
   ],
   "source": [
    "correct = np.invert(incorrect)\n",
    "images = x_test[correct]\n",
    "cls_true = y_test[correct]\n",
    "cls_pred = flat_array[correct]\n",
    "plotImages(images, 3, 4, cls_true, cls_pred);"
   ]
  },
  {
   "cell_type": "code",
   "execution_count": null,
   "metadata": {},
   "outputs": [],
   "source": []
  }
 ],
 "metadata": {
  "kernelspec": {
   "display_name": "Python 3",
   "language": "python",
   "name": "python3"
  },
  "language_info": {
   "codemirror_mode": {
    "name": "ipython",
    "version": 3
   },
   "file_extension": ".py",
   "mimetype": "text/x-python",
   "name": "python",
   "nbconvert_exporter": "python",
   "pygments_lexer": "ipython3",
   "version": "3.6.8"
  }
 },
 "nbformat": 4,
 "nbformat_minor": 2
}
